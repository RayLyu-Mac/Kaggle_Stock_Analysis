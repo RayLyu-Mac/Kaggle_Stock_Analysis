{
 "cells": [
  {
   "cell_type": "code",
   "execution_count": 1,
   "metadata": {},
   "outputs": [],
   "source": [
    "import polars as pl\n",
    "import requests\n",
    "# to enrich the examples in this quickstart with dates\n",
    "from datetime import datetime, timedelta \n",
    "# to generate data for the examples\n",
    "import numpy as np \n",
    "from os import listdir\n",
    "import matplotlib.pyplot as plt\n",
    "from functions import get_price, get_tag,get_grading"
   ]
  },
  {
   "cell_type": "code",
   "execution_count": 2,
   "metadata": {},
   "outputs": [],
   "source": [
    "df=pl.read_csv('tag.csv')\n",
    "USTag=df['Symbol'].drop_nulls().to_numpy()\n",
    "CATag=df['Symbol_duplicated_0'].drop_nulls().to_numpy()"
   ]
  },
  {
   "cell_type": "code",
   "execution_count": 6,
   "metadata": {},
   "outputs": [
    {
     "ename": "ShapeError",
     "evalue": "Could not create a new DataFrame from Series. The Series have different lengths. Got [shape: (499,)\nSeries: 'Time' [i64]\n[\n\t1677160774\n\t1677160663\n\t1677160349\n\t1677158588\n\t1677156707\n\t1677156552\n\t1677156197\n\t1677155573\n\t1677154701\n\t1677153499\n\t1677153475\n\t1677153260\n\t...\n\t1344579660\n\t1344327000\n\t1341911580\n\t1340873400\n\t1340605320\n\t1339417680\n\t1338447180\n\t1336994820\n\t1336976340\n\t1333609620\n\t1329377340\n\t1329374040\n\t1329118020\n], shape: (2518,)\nSeries: 'Price' [f64]\n[\n\t3.075\n\t3.0925\n\t3.15\n\t3.165\n\t3.1775\n\t3.165\n\t3.2\n\t3.1975\n\t3.19\n\t3.205\n\t3.175\n\t3.185\n\t...\n\t210.889999\n\t221.729996\n\t222.050003\n\t223.369995\n\t212.649994\n\t217.880005\n\t229.710007\n\t227.639999\n\t220.020004\n\t213.880005\n\t206.550003\n\t207.539993\n\t233.800003\n], shape: (499,)\nSeries: 'Grading_Time' [i64]\n[\n\t1677160774\n\t1677160663\n\t1677160349\n\t1677158588\n\t1677156707\n\t1677156552\n\t1677156197\n\t1677155573\n\t1677154701\n\t1677153499\n\t1677153475\n\t1677153260\n\t...\n\t1344579660\n\t1344327000\n\t1341911580\n\t1340873400\n\t1340605320\n\t1339417680\n\t1338447180\n\t1336994820\n\t1336976340\n\t1333609620\n\t1329377340\n\t1329374040\n\t1329118020\n], shape: (499,)\nSeries: 'Grading' [str]\n[\n\t\"Hold\"\n\t\"Buy\"\n\t\"Hold\"\n\t\"Buy\"\n\t\"Buy\"\n\t\"Buy\"\n\t\"Equal-Weight\"\n\t\"Outperform\"\n\t\"Overweight\"\n\t\"Buy\"\n\t\"Neutral\"\n\t\"Outperform\"\n\t...\n\t\"Hold\"\n\t\"Outperform\"\n\t\"Strong Buy\"\n\t\"Neutral\"\n\t\"Buy\"\n\t\"Buy\"\n\t\"Equal-Weight\"\n\t\"Buy\"\n\t\"Hold\"\n\t\"Buy\"\n\t\"Underweight\"\n\t\"Neutral\"\n\t\"Outperform\"\n], shape: (499,)\nSeries: 'Grading_agen' [str]\n[\n\t\"Craig-Hallum\"\n\t\"Jefferies\"\n\t\"Stifel\"\n\t\"Goldman Sachs\"\n\t\"Truist Securit...\n\t\"B of A Securit...\n\t\"Morgan Stanley...\n\t\"BMO Capital\"\n\t\"Wells Fargo\"\n\t\"Rosenblatt\"\n\t\"Baird\"\n\t\"Oppenheimer\"\n\t...\n\t\"Citigroup\"\n\t\"FBR Capital\"\n\t\"Raymond James\"\n\t\"Lazard\"\n\t\"Canaccord Genu...\n\t\"UBS\"\n\t\"Morgan Stanley...\n\t\"Salman Partner...\n\t\"Jefferies\"\n\t\"Cantor Fitzger...\n\t\"Evercore Partn...\n\t\"Bank oferica\"\n\t\"FBR Capital\"\n]]",
     "output_type": "error",
     "traceback": [
      "\u001b[1;31m---------------------------------------------------------------------------\u001b[0m",
      "\u001b[1;31mShapeError\u001b[0m                                Traceback (most recent call last)",
      "Cell \u001b[1;32mIn[6], line 13\u001b[0m\n\u001b[0;32m     11\u001b[0m StockProfile[\u001b[39m'\u001b[39m\u001b[39mGrading\u001b[39m\u001b[39m'\u001b[39m]\u001b[39m=\u001b[39mresult\n\u001b[0;32m     12\u001b[0m StockProfile[\u001b[39m'\u001b[39m\u001b[39mGrading_agen\u001b[39m\u001b[39m'\u001b[39m]\u001b[39m=\u001b[39mGNam\n\u001b[1;32m---> 13\u001b[0m \u001b[39mprint\u001b[39m(pl\u001b[39m.\u001b[39;49mDataFrame(StockProfile)\u001b[39m.\u001b[39mT)\n\u001b[0;32m     14\u001b[0m pl\u001b[39m.\u001b[39mDataFrame(StockProfile)\u001b[39m.\u001b[39mwrite_parquet(\u001b[39mf\u001b[39m\u001b[39m\"\u001b[39m\u001b[39mCAData\u001b[39m\u001b[39m\\\\\u001b[39;00m\u001b[39m{\u001b[39;00mstock_tag\u001b[39m}\u001b[39;00m\u001b[39m_\u001b[39m\u001b[39m{\u001b[39;00mind\u001b[39m}\u001b[39;00m\u001b[39m_\u001b[39m\u001b[39m{\u001b[39;00msec\u001b[39m}\u001b[39;00m\u001b[39m.parquet\u001b[39m\u001b[39m\"\u001b[39m)\n\u001b[0;32m     15\u001b[0m \u001b[39mtry\u001b[39;00m:\n",
      "File \u001b[1;32m~\\AppData\\Local\\Packages\\PythonSoftwareFoundation.Python.3.10_qbz5n2kfra8p0\\LocalCache\\local-packages\\Python310\\site-packages\\polars\\utils.py:393\u001b[0m, in \u001b[0;36mdeprecated_alias.<locals>.deco.<locals>.wrapper\u001b[1;34m(*args, **kwargs)\u001b[0m\n\u001b[0;32m    390\u001b[0m \u001b[39m@functools\u001b[39m\u001b[39m.\u001b[39mwraps(fn)\n\u001b[0;32m    391\u001b[0m \u001b[39mdef\u001b[39;00m \u001b[39mwrapper\u001b[39m(\u001b[39m*\u001b[39margs: P\u001b[39m.\u001b[39margs, \u001b[39m*\u001b[39m\u001b[39m*\u001b[39mkwargs: P\u001b[39m.\u001b[39mkwargs) \u001b[39m-\u001b[39m\u001b[39m>\u001b[39m T:\n\u001b[0;32m    392\u001b[0m     _rename_kwargs(fn\u001b[39m.\u001b[39m\u001b[39m__name__\u001b[39m, kwargs, aliases)\n\u001b[1;32m--> 393\u001b[0m     \u001b[39mreturn\u001b[39;00m fn(\u001b[39m*\u001b[39margs, \u001b[39m*\u001b[39m\u001b[39m*\u001b[39mkwargs)\n",
      "File \u001b[1;32m~\\AppData\\Local\\Packages\\PythonSoftwareFoundation.Python.3.10_qbz5n2kfra8p0\\LocalCache\\local-packages\\Python310\\site-packages\\polars\\internals\\dataframe\\frame.py:329\u001b[0m, in \u001b[0;36mDataFrame.__init__\u001b[1;34m(self, data, schema, schema_overrides, orient, infer_schema_length)\u001b[0m\n\u001b[0;32m    324\u001b[0m     \u001b[39mself\u001b[39m\u001b[39m.\u001b[39m_df \u001b[39m=\u001b[39m dict_to_pydf(\n\u001b[0;32m    325\u001b[0m         {}, schema\u001b[39m=\u001b[39mschema, schema_overrides\u001b[39m=\u001b[39mschema_overrides\n\u001b[0;32m    326\u001b[0m     )\n\u001b[0;32m    328\u001b[0m \u001b[39melif\u001b[39;00m \u001b[39misinstance\u001b[39m(data, \u001b[39mdict\u001b[39m):\n\u001b[1;32m--> 329\u001b[0m     \u001b[39mself\u001b[39m\u001b[39m.\u001b[39m_df \u001b[39m=\u001b[39m dict_to_pydf(\n\u001b[0;32m    330\u001b[0m         data, schema\u001b[39m=\u001b[39;49mschema, schema_overrides\u001b[39m=\u001b[39;49mschema_overrides\n\u001b[0;32m    331\u001b[0m     )\n\u001b[0;32m    333\u001b[0m \u001b[39melif\u001b[39;00m \u001b[39misinstance\u001b[39m(data, (\u001b[39mlist\u001b[39m, \u001b[39mtuple\u001b[39m, Sequence)):\n\u001b[0;32m    334\u001b[0m     \u001b[39mself\u001b[39m\u001b[39m.\u001b[39m_df \u001b[39m=\u001b[39m sequence_to_pydf(\n\u001b[0;32m    335\u001b[0m         data,\n\u001b[0;32m    336\u001b[0m         schema\u001b[39m=\u001b[39mschema,\n\u001b[1;32m   (...)\u001b[0m\n\u001b[0;32m    339\u001b[0m         infer_schema_length\u001b[39m=\u001b[39minfer_schema_length,\n\u001b[0;32m    340\u001b[0m     )\n",
      "File \u001b[1;32m~\\AppData\\Local\\Packages\\PythonSoftwareFoundation.Python.3.10_qbz5n2kfra8p0\\LocalCache\\local-packages\\Python310\\site-packages\\polars\\internals\\construction.py:697\u001b[0m, in \u001b[0;36mdict_to_pydf\u001b[1;34m(data, schema, schema_overrides)\u001b[0m\n\u001b[0;32m    692\u001b[0m         data_series \u001b[39m=\u001b[39m [\n\u001b[0;32m    693\u001b[0m             s\u001b[39m.\u001b[39m_s \u001b[39mfor\u001b[39;00m s \u001b[39min\u001b[39;00m _expand_dict_scalars(data, schema_overrides)\u001b[39m.\u001b[39mvalues()\n\u001b[0;32m    694\u001b[0m         ]\n\u001b[0;32m    696\u001b[0m     data_series \u001b[39m=\u001b[39m _handle_columns_arg(data_series, columns\u001b[39m=\u001b[39mcolumns, from_dict\u001b[39m=\u001b[39m\u001b[39mTrue\u001b[39;00m)\n\u001b[1;32m--> 697\u001b[0m     \u001b[39mreturn\u001b[39;00m PyDataFrame(data_series)\n\u001b[0;32m    699\u001b[0m \u001b[39mif\u001b[39;00m _NUMPY_AVAILABLE:\n\u001b[0;32m    700\u001b[0m     count_numpy \u001b[39m=\u001b[39m \u001b[39m0\u001b[39m\n",
      "\u001b[1;31mShapeError\u001b[0m: Could not create a new DataFrame from Series. The Series have different lengths. Got [shape: (499,)\nSeries: 'Time' [i64]\n[\n\t1677160774\n\t1677160663\n\t1677160349\n\t1677158588\n\t1677156707\n\t1677156552\n\t1677156197\n\t1677155573\n\t1677154701\n\t1677153499\n\t1677153475\n\t1677153260\n\t...\n\t1344579660\n\t1344327000\n\t1341911580\n\t1340873400\n\t1340605320\n\t1339417680\n\t1338447180\n\t1336994820\n\t1336976340\n\t1333609620\n\t1329377340\n\t1329374040\n\t1329118020\n], shape: (2518,)\nSeries: 'Price' [f64]\n[\n\t3.075\n\t3.0925\n\t3.15\n\t3.165\n\t3.1775\n\t3.165\n\t3.2\n\t3.1975\n\t3.19\n\t3.205\n\t3.175\n\t3.185\n\t...\n\t210.889999\n\t221.729996\n\t222.050003\n\t223.369995\n\t212.649994\n\t217.880005\n\t229.710007\n\t227.639999\n\t220.020004\n\t213.880005\n\t206.550003\n\t207.539993\n\t233.800003\n], shape: (499,)\nSeries: 'Grading_Time' [i64]\n[\n\t1677160774\n\t1677160663\n\t1677160349\n\t1677158588\n\t1677156707\n\t1677156552\n\t1677156197\n\t1677155573\n\t1677154701\n\t1677153499\n\t1677153475\n\t1677153260\n\t...\n\t1344579660\n\t1344327000\n\t1341911580\n\t1340873400\n\t1340605320\n\t1339417680\n\t1338447180\n\t1336994820\n\t1336976340\n\t1333609620\n\t1329377340\n\t1329374040\n\t1329118020\n], shape: (499,)\nSeries: 'Grading' [str]\n[\n\t\"Hold\"\n\t\"Buy\"\n\t\"Hold\"\n\t\"Buy\"\n\t\"Buy\"\n\t\"Buy\"\n\t\"Equal-Weight\"\n\t\"Outperform\"\n\t\"Overweight\"\n\t\"Buy\"\n\t\"Neutral\"\n\t\"Outperform\"\n\t...\n\t\"Hold\"\n\t\"Outperform\"\n\t\"Strong Buy\"\n\t\"Neutral\"\n\t\"Buy\"\n\t\"Buy\"\n\t\"Equal-Weight\"\n\t\"Buy\"\n\t\"Hold\"\n\t\"Buy\"\n\t\"Underweight\"\n\t\"Neutral\"\n\t\"Outperform\"\n], shape: (499,)\nSeries: 'Grading_agen' [str]\n[\n\t\"Craig-Hallum\"\n\t\"Jefferies\"\n\t\"Stifel\"\n\t\"Goldman Sachs\"\n\t\"Truist Securit...\n\t\"B of A Securit...\n\t\"Morgan Stanley...\n\t\"BMO Capital\"\n\t\"Wells Fargo\"\n\t\"Rosenblatt\"\n\t\"Baird\"\n\t\"Oppenheimer\"\n\t...\n\t\"Citigroup\"\n\t\"FBR Capital\"\n\t\"Raymond James\"\n\t\"Lazard\"\n\t\"Canaccord Genu...\n\t\"UBS\"\n\t\"Morgan Stanley...\n\t\"Salman Partner...\n\t\"Jefferies\"\n\t\"Cantor Fitzger...\n\t\"Evercore Partn...\n\t\"Bank oferica\"\n\t\"FBR Capital\"\n]]"
     ]
    }
   ],
   "source": [
    "WholeStock={}\n",
    "for stock_tag in USTag:\n",
    "    StockProfile={}\n",
    "    StockRating={}\n",
    "    time,price=get_price(stock_tag,10)\n",
    "    ind,sec=get_tag(stock_tag)\n",
    "    GNam,result,time=get_grading(stock_tag)\n",
    "    StockProfile[\"Time\"]=time\n",
    "    StockProfile[\"Price\"]=price\n",
    "    StockRating['Grading_Time']=time\n",
    "    StockRating['Grading']=result\n",
    "    StockRating['Grading_agen']=GNam\n",
    "    print(pl.DataFrame(StockProfile))\n",
    "    pl.DataFrame(StockProfile).write_parquet(f\"US\\\\{stock_tag}_{ind}_{sec}.parquet\")\n",
    "    pl.DataFrame(StockRating).write_parquet(f\"US\\\\{stock_tag}_{ind}_{sec}_Rating.parquet\")\n",
    "    try:\n",
    "        StockProfile[sec].append(price)\n",
    "    except:\n",
    "        StockProfile[sec]=[]\n",
    "        \n",
    "\n",
    "    break"
   ]
  },
  {
   "cell_type": "code",
   "execution_count": null,
   "metadata": {},
   "outputs": [
    {
     "data": {
      "text/plain": [
       "{}"
      ]
     },
     "execution_count": 6,
     "metadata": {},
     "output_type": "execute_result"
    }
   ],
   "source": [
    "StockProfile"
   ]
  },
  {
   "cell_type": "code",
   "execution_count": null,
   "metadata": {},
   "outputs": [
    {
     "data": {
      "text/plain": [
       "array(['NVDA', 'TSLA', 'AMD', 'LCID', 'BABA', 'PLTR', 'INTC', 'GRAB',\n",
       "       'AMZN', 'AAPL', 'U', 'AAL', 'NIO', 'GOOGL', 'CS', 'UBER', 'F',\n",
       "       'MSFT', 'CCL', 'GOOG', 'COIN', 'RIVN', 'SNAP', 'TSM', 'META',\n",
       "       'PDD', 'MU', 'SHOP', 'RYCEY', 'JD', 'STLA', 'ACI', 'BAC', 'NU',\n",
       "       'NFLX', 'ETSY', 'ITUB', 'PFE', 'GM', 'MRVL', 'CTRA', 'SIRI',\n",
       "       'EBAY', 'LYG', 'WBD', 'MRNA', 'PBR', 'BP', 'UAL', 'T', 'RBLX',\n",
       "       'DVN', 'OXY', 'BIDU', 'SQ', 'DAL', 'ON', 'GOLD', 'UMC', 'PYPL',\n",
       "       'ET', 'MOS', 'NEM', 'VALE', 'XOM', 'APA', 'HWM', 'VOD', 'PPL',\n",
       "       'TCOM', 'CSX', 'ORCL', 'BBD', 'CSCO', 'BCS', 'KO', 'DIS', 'NOK',\n",
       "       'CLF', 'VZ', 'ABEV', 'PANW', 'ABNB', 'GE', 'FCX', 'WFC', 'KEY',\n",
       "       'ERIC', 'TECK', 'MRO', 'PCG', 'AMAT', 'CRWD', 'CNHI', 'MCD',\n",
       "       'PINS', 'LNG', 'CMCSA', 'C', 'RF'], dtype=object)"
      ]
     },
     "execution_count": 7,
     "metadata": {},
     "output_type": "execute_result"
    }
   ],
   "source": [
    "USTag"
   ]
  },
  {
   "cell_type": "code",
   "execution_count": null,
   "metadata": {},
   "outputs": [],
   "source": []
  }
 ],
 "metadata": {
  "kernelspec": {
   "display_name": "Python 3",
   "language": "python",
   "name": "python3"
  },
  "language_info": {
   "codemirror_mode": {
    "name": "ipython",
    "version": 3
   },
   "file_extension": ".py",
   "mimetype": "text/x-python",
   "name": "python",
   "nbconvert_exporter": "python",
   "pygments_lexer": "ipython3",
   "version": "3.10.10"
  },
  "orig_nbformat": 4,
  "vscode": {
   "interpreter": {
    "hash": "a497328018be5bb72306d60b896d4c1349f6e74688cbe4ee7ef101ff63d0d1a3"
   }
  }
 },
 "nbformat": 4,
 "nbformat_minor": 2
}
